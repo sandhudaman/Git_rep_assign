{
 "cells": [
  {
   "cell_type": "markdown",
   "id": "9c320de8",
   "metadata": {},
   "source": [
    "# Assignment 4 Part 1\n",
    "### Damanpreet Singh 000741359"
   ]
  },
  {
   "cell_type": "code",
   "execution_count": 257,
   "id": "ca366ae5",
   "metadata": {},
   "outputs": [],
   "source": [
    "import pandas as pd \n",
    "import numpy as np\n",
    "from matplotlib import pyplot as plt\n",
    "\n",
    "# reading 4 data files using csv\n",
    "# using numpy as it was a requirement for assignment\n",
    "data1 = np.genfromtxt('741359_1.csv', delimiter=\",\") ##lineraly Seprable\n",
    "data2 = np.genfromtxt('741359_2.csv', delimiter=\",\") ##lineraly Seprable\n",
    "data3 = np.genfromtxt('741359_3.csv', delimiter=\",\") ##Not Seprable linealy\n",
    "data4 = np.genfromtxt('741359_4.csv', delimiter=\",\") ##lineraly Seprable\n",
    "\n",
    "\n"
   ]
  },
  {
   "cell_type": "code",
   "execution_count": 258,
   "id": "842cc70a",
   "metadata": {},
   "outputs": [],
   "source": [
    "from sklearn.model_selection import train_test_split\n",
    "\n",
    "#function for splitting data into test and trainig\n",
    "def splitData(i,j):\n",
    "    X_train,X_test,y_train,y_test = train_test_split(i,j,random_state = 25,test_size = .25)\n",
    "    return X_train,X_test,y_train,y_test\n",
    "\n",
    "# Building algorithm\n",
    "def algo(X_train,y_train):\n",
    "    w = np.zeros(X_train.shape[1])                    # initiang weights dependaing on no. of columns in dataset \n",
    "    threshold = 0\n",
    "    lrate = 0.1\n",
    "    for a,b in zip(X_train,y_train):                   # loop to run traning data and labels in parallel\n",
    "        output = (w * a).sum()                           \n",
    "        if output > threshold:                         # setting activation or output depending on greater or lesser than thresold\n",
    "            output = 1\n",
    "        elif output < threshold:\n",
    "            output = 0\n",
    "        #print(output)\n",
    "        if output < b:                                # changing weights varied my learning rate and data after each epoch\n",
    "            innerCounter = 0\n",
    "            #print('here1')\n",
    "            for m,n in zip(w,a):\n",
    "                w[innerCounter] = m + n * lrate\n",
    "                threshold = threshold - lrate\n",
    "                innerCounter = innerCounter + 1\n",
    "        elif (output > b):\n",
    "            innerCounter = 0\n",
    "            #print('here2')\n",
    "            for m,n in zip(w,a):\n",
    "                w[innerCounter] = m - n * lrate\n",
    "                threshold = threshold + lrate\n",
    "                innerCounter = innerCounter + 1\n",
    "    return w,threshold                               #returns thereshold and final weights for testing\n",
    "\n",
    "# function to test the accuracy\n",
    "def testAcc(X_test,y_test,w,threshold):              # inputs are testing data modified weights and threshold\n",
    "    totalLen = y_test.shape[0]\n",
    "    trueCount = 0  \n",
    "    for a,b in zip(X_test,y_test):\n",
    "        output = (w * a).sum()\n",
    "        if output > threshold:\n",
    "            output = 1\n",
    "        elif output < threshold:\n",
    "            output = 0\n",
    "        if b==output:                                # counter for positive test results\n",
    "                trueCount = trueCount +1\n",
    "    return round(trueCount/totalLen *100,3)           #returns accuracy\n",
    "    \n"
   ]
  },
  {
   "cell_type": "code",
   "execution_count": 259,
   "id": "0f8771f4",
   "metadata": {},
   "outputs": [
    {
     "name": "stdout",
     "output_type": "stream",
     "text": [
      "000741359_1.csv:  100.0 % W: [-2.1 -2.8 -2.  -1.1 -2. ] T: -1.5\n",
      "000741359_2.csv:  99.6 % W: [-1.3 -2.5 -2.7 -4.2 -2.8 -2.5 -2.2 -1. ] T: -4.8\n",
      "000741359_3.csv:  47.2 % W: [-11.1  14.7   3.6  -1.6  27.   22.7   1.6 -25.5] T: -1.6\n",
      "000741359_1.csv:  99.8 % W: [-1.8 -1.9 -1.9 -1.3 -1.5 -2. ] T: -2.4\n"
     ]
    }
   ],
   "source": [
    "#Test on data 1\n",
    "totalCol = data1.shape[1]\n",
    "i = data1[:,0:totalCol-1]\n",
    "j = data1[:,totalCol-1:totalCol]\n",
    "X_train,X_test,y_train,y_test = splitData(i,j)\n",
    "testw = algo(X_train,y_train)\n",
    "accuracy = testAcc(X_test,y_test,testw[0],testw[1])\n",
    "print(f'000741359_1.csv:  {accuracy} % W: {np.around(testw[0],1)} T: {np.around(testw[1],1)}' )\n",
    "\n",
    "#Test on data 2\n",
    "totalCol = data2.shape[1]\n",
    "i = data2[:,0:totalCol-1]\n",
    "j = data2[:,totalCol-1:totalCol]\n",
    "X_train,X_test,y_train,y_test = splitData(i,j)\n",
    "testw = algo(X_train,y_train)\n",
    "accuracy = testAcc(X_test,y_test,testw[0],testw[1])\n",
    "print(f'000741359_2.csv:  {accuracy} % W: {np.around(testw[0],1)} T: {np.around(testw[1],1)}' )\n",
    "\n",
    "#Test on data 3\n",
    "totalCol = data3.shape[1]\n",
    "i = data3[:,0:totalCol-1]\n",
    "j = data3[:,totalCol-1:totalCol]\n",
    "X_train,X_test,y_train,y_test = splitData(i,j)\n",
    "testw = algo(X_train,y_train)\n",
    "accuracy = testAcc(X_test,y_test,testw[0],testw[1])\n",
    "print(f'000741359_3.csv:  {accuracy} % W: {np.around(testw[0],1)} T: {np.around(testw[1],1)}' )\n",
    "\n",
    "#Test on data 4\n",
    "totalCol = data4.shape[1]\n",
    "i = data4[:,0:totalCol-1]\n",
    "j = data4[:,totalCol-1:totalCol]\n",
    "X_train,X_test,y_train,y_test = splitData(i,j)\n",
    "testw = algo(X_train,y_train)\n",
    "accuracy = testAcc(X_test,y_test,testw[0],testw[1])\n",
    "print(f'000741359_1.csv:  {accuracy} % W: {np.around(testw[0],1)} T: {np.around(testw[1],1)}' )\n"
   ]
  }
 ],
 "metadata": {
  "kernelspec": {
   "display_name": "Python 3",
   "language": "python",
   "name": "python3"
  },
  "language_info": {
   "codemirror_mode": {
    "name": "ipython",
    "version": 3
   },
   "file_extension": ".py",
   "mimetype": "text/x-python",
   "name": "python",
   "nbconvert_exporter": "python",
   "pygments_lexer": "ipython3",
   "version": "3.8.8"
  }
 },
 "nbformat": 4,
 "nbformat_minor": 5
}
