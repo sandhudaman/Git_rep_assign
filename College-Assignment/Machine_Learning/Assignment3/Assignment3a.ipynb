{
 "cells": [
  {
   "cell_type": "markdown",
   "id": "d6cb0412",
   "metadata": {},
   "source": [
    "# Assignment3a "
   ]
  },
  {
   "cell_type": "markdown",
   "id": "bb086b98",
   "metadata": {},
   "source": [
    "## Damanpreet Singh 000741359"
   ]
  },
  {
   "cell_type": "code",
   "execution_count": 1,
   "id": "64a9752a",
   "metadata": {},
   "outputs": [],
   "source": [
    "from sklearn import datasets\n",
    "from sklearn.naive_bayes import GaussianNB\n",
    "import pandas as pd\n",
    "import numpy as np\n"
   ]
  },
  {
   "cell_type": "code",
   "execution_count": 2,
   "id": "a87468e9",
   "metadata": {},
   "outputs": [],
   "source": [
    "data1 = pd.read_csv('Dataset_Train.csv')\n",
    "data2 = pd.read_csv('Dataset_Test.csv')\n",
    "\n",
    "\n",
    "# concatenate data sets\n",
    "data = pd.concat([data1,data2],axis = 0)\n",
    "\n",
    "\n",
    "#from sklearn.preprocessing import LabelEncoder\n",
    "#converts cateogorical values ot numerical\n",
    "#l_encoder = LabelEncoder()\n",
    "\n",
    "# was plannign ot use above method but not used because of the issue with 'Very Low' and 'very_low'\n",
    "\n",
    "data[' UNS'] = data[' UNS'].map({'Very Low':1,'very_low':1,'Low':2,'Middle':3,'High':4})\n"
   ]
  },
  {
   "cell_type": "code",
   "execution_count": 67,
   "id": "668c0102",
   "metadata": {},
   "outputs": [],
   "source": [
    "#seprate features and labels\n",
    "X = data.drop(columns = ' UNS',axis = 1)\n",
    "y = data[' UNS']"
   ]
  },
  {
   "cell_type": "code",
   "execution_count": 155,
   "id": "99a5b3a9",
   "metadata": {},
   "outputs": [
    {
     "name": "stdout",
     "output_type": "stream",
     "text": [
      "Average score over 50 runs:  0.887 standard deviation of Score:  0.024\n",
      "Number of mislabeled points out of a total 51 points: 13.627\n"
     ]
    }
   ],
   "source": [
    "from sklearn.model_selection import train_test_split\n",
    "from sklearn.naive_bayes import GaussianNB\n",
    "\n",
    "counter = 0\n",
    "scoreList = list() \n",
    "missLabel = list()\n",
    "while(counter <=50):\n",
    "    X_train,X_test,y_train,y_test=train_test_split(X,y,test_size=0.3,random_state=counter)\n",
    "    clf = GaussianNB()\n",
    "    clf.fit(X_train,y_train)\n",
    "    scoreList.append(clf.score(X_test,y_test))\n",
    "    result = clf.predict(X_test)\n",
    "    missLabel.append((y_test != result).sum())\n",
    "    counter = counter +1\n",
    "    \n",
    "df = pd.Series(scoreList)\n",
    "avgresult = pd.Series(missLabel)\n",
    "\n",
    "print(\"Average score over 50 runs: \",round(df.mean(),3),\"standard deviation of Score: \",round(df.std(),3))\n",
    "print(\"Number of mislabeled points out of a total\",avgresult.shape[0],\"points:\",round(avgresult.mean(),3))\n",
    "\n"
   ]
  },
  {
   "cell_type": "markdown",
   "id": "1948add5",
   "metadata": {},
   "source": [
    "# Calculating propabilities"
   ]
  },
  {
   "cell_type": "code",
   "execution_count": 154,
   "id": "a4792ad9",
   "metadata": {},
   "outputs": [
    {
     "name": "stdout",
     "output_type": "stream",
     "text": [
      "Average probabilty of correct prediction: 0.733\n",
      "Average probabilty of incorrect prediction: 0.267\n"
     ]
    }
   ],
   "source": [
    "\n",
    "\n",
    "print(\"Average probabilty of correct prediction:\",1 - round(avgresult.mean()/avgresult.shape[0],3))\n",
    "print(\"Average probabilty of incorrect prediction:\",round(avgresult.mean()/avgresult.shape[0],3))"
   ]
  },
  {
   "cell_type": "code",
   "execution_count": null,
   "id": "28eed0e2",
   "metadata": {},
   "outputs": [],
   "source": []
  },
  {
   "cell_type": "code",
   "execution_count": null,
   "id": "be76841d",
   "metadata": {},
   "outputs": [],
   "source": []
  }
 ],
 "metadata": {
  "kernelspec": {
   "display_name": "Python 3",
   "language": "python",
   "name": "python3"
  },
  "language_info": {
   "codemirror_mode": {
    "name": "ipython",
    "version": 3
   },
   "file_extension": ".py",
   "mimetype": "text/x-python",
   "name": "python",
   "nbconvert_exporter": "python",
   "pygments_lexer": "ipython3",
   "version": "3.8.8"
  }
 },
 "nbformat": 4,
 "nbformat_minor": 5
}
