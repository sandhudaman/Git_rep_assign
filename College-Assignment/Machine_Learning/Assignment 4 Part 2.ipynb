{
 "cells": [
  {
   "cell_type": "markdown",
   "id": "a567880f",
   "metadata": {},
   "source": [
    "# Assignment 4 Part 2\n",
    "### Damanpreet Singh 000741359"
   ]
  },
  {
   "cell_type": "code",
   "execution_count": 119,
   "id": "8c6361e5",
   "metadata": {},
   "outputs": [],
   "source": [
    "import pandas as pd \n",
    "import numpy as np\n",
    "from matplotlib import pyplot as plt\n",
    "\n",
    "# reading 4 data files using csv\n",
    "# using numpy as it was a requirement for assignment\n",
    "data1 = np.genfromtxt('741359_1.csv', delimiter=\",\") ##lineraly Seprable\n",
    "data2 = np.genfromtxt('741359_2.csv', delimiter=\",\") ##lineraly Seprable\n",
    "data3 = np.genfromtxt('741359_3.csv', delimiter=\",\") ##Not Seprable linearly\n",
    "data4 = np.genfromtxt('741359_4.csv', delimiter=\",\") ##lineraly Seprable"
   ]
  },
  {
   "cell_type": "code",
   "execution_count": 120,
   "id": "62dca17e",
   "metadata": {},
   "outputs": [],
   "source": [
    "from sklearn.model_selection import train_test_split\n",
    "\n",
    "#function for splitting data into test and trainig\n",
    "def splitData(i,j):\n",
    "    X_train,X_test,y_train,y_test = train_test_split(i,j,random_state = 25,test_size = .25)\n",
    "    return X_train,X_test,y_train,y_test\n"
   ]
  },
  {
   "cell_type": "code",
   "execution_count": 121,
   "id": "1fb3af26",
   "metadata": {},
   "outputs": [
    {
     "name": "stdout",
     "output_type": "stream",
     "text": [
      "File: 741359_1.csv\n",
      "Decision Tree: 99.8% Accuracy\n",
      "MLP: hidden layers (100,), LR = 0.01, tol = 0.0001\n",
      "100.0% Accuracy, 9 iterations\n"
     ]
    }
   ],
   "source": [
    "# for creating the classification model with perceptron\n",
    "from sklearn.linear_model import Perceptron\n",
    "from sklearn.metrics import accuracy_score\n",
    "p_clf = Perceptron()\n",
    "\n",
    "#Test on data\n",
    "data = data1                         # for testing classifeir on different datasets change data1 to data4/data2 you can try\n",
    "totalCol = data.shape[1]             # data 3 but its not lineraly seprable    \n",
    "i = data[:,0:totalCol-1]\n",
    "j = data[:,totalCol-1:totalCol].flatten()\n",
    "\n",
    "X_train,X_test,y_train,y_test = splitData(i,j)\n",
    "\n",
    "p_clf.fit(X_train,y_train)\n",
    "\n",
    "y_pred = p_clf.predict(X_test)\n",
    "\n",
    "\n",
    "from sklearn.neural_network import MLPClassifier \n",
    "ann_clf=MLPClassifier(activation='relu',solver = 'lbfgs',learning_rate_init=0.01,n_iter_no_change = 5)\n",
    "stats = ann_clf.fit(X_train,y_train)\n",
    "y_predMLP=ann_clf.predict(X_test)\n",
    "accuracy_score(y_test,y_predMLP)\n",
    "\n",
    "print(\"File: 741359_1.csv\")\n",
    "print(f\"Decision Tree: {accuracy_score(y_test,y_pred)*100}% Accuracy\")\n",
    "print(f\"MLP: hidden layers {stats.hidden_layer_sizes}, LR = {stats.learning_rate_init}, tol = {stats.tol}\")\n",
    "print(f\"{accuracy_score(y_test,y_predMLP)*100}% Accuracy, {stats.n_iter_} iterations\")\n",
    "\n"
   ]
  },
  {
   "cell_type": "markdown",
   "id": "2d678ede",
   "metadata": {},
   "source": [
    "# Testing on 5th data set\n",
    "\n",
    "### default of credit card clients Data Set\n",
    "\n",
    "##### Data imported from https://archive.ics.uci.edu/ml/datasets/default+of+credit+card+clients#"
   ]
  },
  {
   "cell_type": "code",
   "execution_count": 122,
   "id": "789a294f",
   "metadata": {},
   "outputs": [],
   "source": [
    "# breif description of data \n",
    "# This data is used for forcasting weather a credit holder will default on his debt or not\n",
    "# First 6 rows have some general information Gender, Education,Marital status, Age\n",
    "# 6 - 11: has history of past paymens\n",
    "# 12-17 tracks bill ammount on credit card\n",
    "# 18-23 ammont paid by the user \n",
    "\n",
    "\n",
    "data5 = np.genfromtxt('default_of_credit.csv', delimiter=\",\")"
   ]
  },
  {
   "cell_type": "code",
   "execution_count": 123,
   "id": "25408fc9",
   "metadata": {},
   "outputs": [],
   "source": [
    "data = data5                        \n",
    "totalCol = data.shape[1]             # preparing dataset for splitting    \n",
    "i = data[:,0:totalCol-1]\n",
    "j = data[:,totalCol-1:totalCol].flatten()"
   ]
  },
  {
   "cell_type": "code",
   "execution_count": 124,
   "id": "dcbfce77",
   "metadata": {},
   "outputs": [
    {
     "name": "stdout",
     "output_type": "stream",
     "text": [
      "File: default_of_credit.csv\n",
      "Decision Tree: 60.92% Accuracy\n",
      "MLP: hidden layers (100,), LR = 0.001, tol = 0.0001\n",
      "77.56% Accuracy, 7 iterations\n"
     ]
    }
   ],
   "source": [
    "# using preceptron classifier\n",
    "X_train,X_test,y_train,y_test = splitData(i,j)   # using split data method to split testing and traning data\n",
    "p_clf = Perceptron()\n",
    "\n",
    "p_clf.fit(X_train,y_train)\n",
    "\n",
    "y_pred = p_clf.predict(X_test)\n",
    "\n",
    "print(\"File: default_of_credit.csv\")\n",
    "print(f\"Decision Tree: {round(accuracy_score(y_test,y_pred)*100,3)}% Accuracy\")\n",
    "\n",
    "# Using multilayer preceptron classifier\n",
    "ann_clf=MLPClassifier(activation='relu',solver = 'sgd',learning_rate='invscaling',n_iter_no_change = 5)\n",
    "stats = ann_clf.fit(X_train,y_train)\n",
    "y_predMLP=ann_clf.predict(X_test)\n",
    "accuracy_score(y_test,y_predMLP)\n",
    "\n",
    "print(f\"MLP: hidden layers {stats.hidden_layer_sizes}, LR = {stats.learning_rate_init}, tol = {stats.tol}\")\n",
    "print(f\"{accuracy_score(y_test,y_predMLP)*100}% Accuracy, {stats.n_iter_} iterations\")"
   ]
  },
  {
   "cell_type": "markdown",
   "id": "c511c575",
   "metadata": {},
   "source": [
    "### (activation='relu',solver = 'sgd',learning_rate='invscaling',n_iter_no_change = 5)\n",
    "#### was the best setting with highest accuracy and least no. of interations"
   ]
  }
 ],
 "metadata": {
  "kernelspec": {
   "display_name": "Python 3",
   "language": "python",
   "name": "python3"
  },
  "language_info": {
   "codemirror_mode": {
    "name": "ipython",
    "version": 3
   },
   "file_extension": ".py",
   "mimetype": "text/x-python",
   "name": "python",
   "nbconvert_exporter": "python",
   "pygments_lexer": "ipython3",
   "version": "3.8.8"
  }
 },
 "nbformat": 4,
 "nbformat_minor": 5
}
