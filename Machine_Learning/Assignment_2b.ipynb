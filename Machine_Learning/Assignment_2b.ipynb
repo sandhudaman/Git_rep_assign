{
 "cells": [
  {
   "cell_type": "markdown",
   "id": "e9f4b2cf",
   "metadata": {},
   "source": [
    "# Assignment 2b"
   ]
  },
  {
   "cell_type": "markdown",
   "id": "838d0358",
   "metadata": {},
   "source": [
    "# Damanpreet Singh 000741359"
   ]
  },
  {
   "cell_type": "code",
   "execution_count": 10,
   "id": "d7916116",
   "metadata": {},
   "outputs": [
    {
     "data": {
      "text/html": [
       "<div>\n",
       "<style scoped>\n",
       "    .dataframe tbody tr th:only-of-type {\n",
       "        vertical-align: middle;\n",
       "    }\n",
       "\n",
       "    .dataframe tbody tr th {\n",
       "        vertical-align: top;\n",
       "    }\n",
       "\n",
       "    .dataframe thead th {\n",
       "        text-align: right;\n",
       "    }\n",
       "</style>\n",
       "<table border=\"1\" class=\"dataframe\">\n",
       "  <thead>\n",
       "    <tr style=\"text-align: right;\">\n",
       "      <th></th>\n",
       "      <th>Age</th>\n",
       "      <th>Year-19XX</th>\n",
       "      <th>Positive nodes</th>\n",
       "      <th>Alive/Dead</th>\n",
       "    </tr>\n",
       "  </thead>\n",
       "  <tbody>\n",
       "    <tr>\n",
       "      <th>0</th>\n",
       "      <td>30</td>\n",
       "      <td>62</td>\n",
       "      <td>3</td>\n",
       "      <td>1</td>\n",
       "    </tr>\n",
       "    <tr>\n",
       "      <th>1</th>\n",
       "      <td>30</td>\n",
       "      <td>65</td>\n",
       "      <td>0</td>\n",
       "      <td>1</td>\n",
       "    </tr>\n",
       "    <tr>\n",
       "      <th>2</th>\n",
       "      <td>31</td>\n",
       "      <td>59</td>\n",
       "      <td>2</td>\n",
       "      <td>1</td>\n",
       "    </tr>\n",
       "    <tr>\n",
       "      <th>3</th>\n",
       "      <td>31</td>\n",
       "      <td>65</td>\n",
       "      <td>4</td>\n",
       "      <td>1</td>\n",
       "    </tr>\n",
       "    <tr>\n",
       "      <th>4</th>\n",
       "      <td>33</td>\n",
       "      <td>58</td>\n",
       "      <td>10</td>\n",
       "      <td>1</td>\n",
       "    </tr>\n",
       "    <tr>\n",
       "      <th>...</th>\n",
       "      <td>...</td>\n",
       "      <td>...</td>\n",
       "      <td>...</td>\n",
       "      <td>...</td>\n",
       "    </tr>\n",
       "    <tr>\n",
       "      <th>300</th>\n",
       "      <td>75</td>\n",
       "      <td>62</td>\n",
       "      <td>1</td>\n",
       "      <td>1</td>\n",
       "    </tr>\n",
       "    <tr>\n",
       "      <th>301</th>\n",
       "      <td>76</td>\n",
       "      <td>67</td>\n",
       "      <td>0</td>\n",
       "      <td>1</td>\n",
       "    </tr>\n",
       "    <tr>\n",
       "      <th>302</th>\n",
       "      <td>77</td>\n",
       "      <td>65</td>\n",
       "      <td>3</td>\n",
       "      <td>1</td>\n",
       "    </tr>\n",
       "    <tr>\n",
       "      <th>303</th>\n",
       "      <td>78</td>\n",
       "      <td>65</td>\n",
       "      <td>1</td>\n",
       "      <td>2</td>\n",
       "    </tr>\n",
       "    <tr>\n",
       "      <th>304</th>\n",
       "      <td>83</td>\n",
       "      <td>58</td>\n",
       "      <td>2</td>\n",
       "      <td>2</td>\n",
       "    </tr>\n",
       "  </tbody>\n",
       "</table>\n",
       "<p>305 rows × 4 columns</p>\n",
       "</div>"
      ],
      "text/plain": [
       "     Age  Year-19XX  Positive nodes  Alive/Dead\n",
       "0     30         62               3           1\n",
       "1     30         65               0           1\n",
       "2     31         59               2           1\n",
       "3     31         65               4           1\n",
       "4     33         58              10           1\n",
       "..   ...        ...             ...         ...\n",
       "300   75         62               1           1\n",
       "301   76         67               0           1\n",
       "302   77         65               3           1\n",
       "303   78         65               1           2\n",
       "304   83         58               2           2\n",
       "\n",
       "[305 rows x 4 columns]"
      ]
     },
     "execution_count": 10,
     "metadata": {},
     "output_type": "execute_result"
    }
   ],
   "source": [
    "import pandas as pd\n",
    "import numpy as np\n",
    "from sklearn.tree import DecisionTreeClassifier\n",
    "from sklearn.model_selection import train_test_split\n",
    "from sklearn.metrics import accuracy_score\n",
    "data = pd.read_csv('haberman.data')\n",
    "data.columns = [\"Age\",\"Year-19XX\",\"Positive nodes\",\"Alive/Dead\"]     # adding feature headers to the columns\n",
    "data\n"
   ]
  },
  {
   "cell_type": "code",
   "execution_count": 11,
   "id": "1953f8e7",
   "metadata": {},
   "outputs": [],
   "source": [
    "new_data = data.drop('Year-19XX', axis = 1)\n",
    "new_data                            ## removed Year column from data as it had no impact on data    \n",
    "\n",
    "labels = new_data['Alive/Dead']     ## getting classses in dataset\n"
   ]
  },
  {
   "cell_type": "code",
   "execution_count": 21,
   "id": "c9fbf964",
   "metadata": {},
   "outputs": [],
   "source": [
    "features =  new_data.drop(['Alive/Dead'],axis = 1)     ## gettign features from datasaet\n",
    "\n",
    "#\n",
    "features_train,features_test,labels_train,labels_test = train_test_split(features,labels,test_size = 0.75,random_state = 5)"
   ]
  },
  {
   "cell_type": "markdown",
   "id": "82ab9f4f",
   "metadata": {},
   "source": [
    "### Hyperparameter Tuning"
   ]
  },
  {
   "cell_type": "markdown",
   "id": "a915505c",
   "metadata": {},
   "source": [
    "## 1. Using Test/Traning data split 75/25 and default classifier"
   ]
  },
  {
   "cell_type": "code",
   "execution_count": 22,
   "id": "2d94fc58",
   "metadata": {},
   "outputs": [
    {
     "data": {
      "text/plain": [
       "(array([0.70742358, 0.70742358, 0.72925764, 0.72925764, 0.71615721]),\n",
       " 0.7179039301310044)"
      ]
     },
     "execution_count": 22,
     "metadata": {},
     "output_type": "execute_result"
    }
   ],
   "source": [
    "run_result = np.zeros(5)\n",
    "counter =0\n",
    "while counter < 5:\n",
    "    new_data_clf = DecisionTreeClassifier()\n",
    "    new_data_clf.fit(features_train,labels_train)\n",
    "    d_predict = new_data_clf.predict(features_test)\n",
    "    run_result[counter] = accuracy_score(labels_test,d_predict)\n",
    "    counter = counter+1\n",
    "    \n",
    "run_result,np.average(run_result)"
   ]
  },
  {
   "cell_type": "markdown",
   "id": "285e9fa5",
   "metadata": {},
   "source": [
    "## 2.Using Test/Traning data split 75/25 and tuning classifeir\n",
    "### criterion='entropy', splitter='best', max_depth=2"
   ]
  },
  {
   "cell_type": "code",
   "execution_count": 23,
   "id": "963c9520",
   "metadata": {},
   "outputs": [
    {
     "data": {
      "text/plain": [
       "(array([0.71615721, 0.71615721, 0.71615721, 0.71615721, 0.71615721]),\n",
       " 0.7161572052401747)"
      ]
     },
     "execution_count": 23,
     "metadata": {},
     "output_type": "execute_result"
    }
   ],
   "source": [
    "\n",
    "run_result = np.zeros(5)\n",
    "counter =0\n",
    "while counter < 5:\n",
    "    new_data_clf = DecisionTreeClassifier(criterion='entropy', splitter='best', max_depth=2)\n",
    "    new_data_clf.fit(features_train,labels_train)\n",
    "    d_predict = new_data_clf.predict(features_test)\n",
    "    run_result[counter] = accuracy_score(labels_test,d_predict)\n",
    "    counter = counter+1\n",
    "    \n",
    "run_result,np.average(run_result)\n"
   ]
  },
  {
   "cell_type": "markdown",
   "id": "52d2061b",
   "metadata": {},
   "source": [
    "## 3.Using Test/Traning data split 75/25 and tuning classifier\n",
    "### criterion='entropy', splitter='reandom', max_depth=6"
   ]
  },
  {
   "cell_type": "code",
   "execution_count": 29,
   "id": "4f07926b",
   "metadata": {},
   "outputs": [
    {
     "data": {
      "text/plain": [
       "(array([0.71615721, 0.69868996, 0.69432314, 0.70742358, 0.71615721]),\n",
       " 0.7065502183406114)"
      ]
     },
     "execution_count": 29,
     "metadata": {},
     "output_type": "execute_result"
    }
   ],
   "source": [
    "run_result = np.zeros(5)\n",
    "counter =0\n",
    "while counter < 5:\n",
    "    new_data_clf = DecisionTreeClassifier(criterion='entropy', splitter='random', max_depth=6)\n",
    "    new_data_clf.fit(features_train,labels_train)\n",
    "    d_predict = new_data_clf.predict(features_test)\n",
    "    run_result[counter] = accuracy_score(labels_test,d_predict)\n",
    "    counter = counter+1\n",
    "    \n",
    "run_result,np.average(run_result)"
   ]
  },
  {
   "cell_type": "markdown",
   "id": "2de7c745",
   "metadata": {},
   "source": [
    "## 4.Using Test/Traning data split 75/25 and tuning classifier\n",
    "### splitter='random', max_depth=2"
   ]
  },
  {
   "cell_type": "code",
   "execution_count": 50,
   "id": "4a72b931",
   "metadata": {},
   "outputs": [
    {
     "data": {
      "text/plain": [
       "(array([0.71356784, 0.67839196, 0.71356784, 0.71859296, 0.68844221]),\n",
       " 0.7025125628140703)"
      ]
     },
     "execution_count": 50,
     "metadata": {},
     "output_type": "execute_result"
    }
   ],
   "source": [
    "run_result = np.zeros(5)\n",
    "counter =0\n",
    "while counter < 5:\n",
    "    new_data_clf = DecisionTreeClassifier(splitter='random', max_depth=3)\n",
    "    new_data_clf.fit(features_train,labels_train)\n",
    "    d_predict = new_data_clf.predict(features_test)\n",
    "    run_result[counter] = accuracy_score(labels_test,d_predict)\n",
    "    counter = counter+1\n",
    "    \n",
    "run_result,np.average(run_result)"
   ]
  },
  {
   "cell_type": "code",
   "execution_count": 41,
   "id": "fe1da462",
   "metadata": {},
   "outputs": [],
   "source": [
    "# changing split in data to 65/35\n",
    "features_train,features_test,labels_train,labels_test = train_test_split(features,labels,test_size = 0.65,random_state = 5)"
   ]
  },
  {
   "cell_type": "markdown",
   "id": "7fed8dd7",
   "metadata": {},
   "source": [
    "## 5.Using Test/Traning data split 65/35 and tuning classifier\n",
    "### default classifier"
   ]
  },
  {
   "cell_type": "code",
   "execution_count": 42,
   "id": "ab86f2df",
   "metadata": {},
   "outputs": [
    {
     "data": {
      "text/plain": [
       "(array([0.67839196, 0.67839196, 0.68844221, 0.69849246, 0.70351759]),\n",
       " 0.6894472361809045)"
      ]
     },
     "execution_count": 42,
     "metadata": {},
     "output_type": "execute_result"
    }
   ],
   "source": [
    "run_result = np.zeros(5)\n",
    "counter =0\n",
    "while counter < 5:\n",
    "    new_data_clf = DecisionTreeClassifier()\n",
    "    new_data_clf.fit(features_train,labels_train)\n",
    "    d_predict = new_data_clf.predict(features_test)\n",
    "    run_result[counter] = accuracy_score(labels_test,d_predict)\n",
    "    counter = counter+1\n",
    "    \n",
    "run_result,np.average(run_result)"
   ]
  },
  {
   "cell_type": "markdown",
   "id": "e90bd10f",
   "metadata": {},
   "source": [
    "## 6.Using Test/Traning data split 65/35 and tuning classifier\n",
    "### criterion='entropy', splitter='best' and default depth"
   ]
  },
  {
   "cell_type": "code",
   "execution_count": 43,
   "id": "4cd55108",
   "metadata": {},
   "outputs": [
    {
     "data": {
      "text/plain": [
       "(array([0.68844221, 0.69346734, 0.68844221, 0.68341709, 0.68341709]),\n",
       " 0.6874371859296481)"
      ]
     },
     "execution_count": 43,
     "metadata": {},
     "output_type": "execute_result"
    }
   ],
   "source": [
    "run_result = np.zeros(5)\n",
    "counter =0\n",
    "while counter < 5:\n",
    "    new_data_clf = DecisionTreeClassifier(criterion='entropy', splitter='best')\n",
    "    new_data_clf.fit(features_train,labels_train)\n",
    "    d_predict = new_data_clf.predict(features_test)\n",
    "    run_result[counter] = accuracy_score(labels_test,d_predict)\n",
    "    counter = counter+1\n",
    "    \n",
    "run_result,np.average(run_result)"
   ]
  },
  {
   "cell_type": "markdown",
   "id": "2c86d9ee",
   "metadata": {},
   "source": [
    "## 7.Using Test/Traning data split 65/35 and tuning classifier\n",
    "### splitter='best', max_leaf_nodes=2"
   ]
  },
  {
   "cell_type": "code",
   "execution_count": 47,
   "id": "21134388",
   "metadata": {},
   "outputs": [
    {
     "data": {
      "text/plain": [
       "(array([0.71356784, 0.71356784, 0.71356784, 0.71356784, 0.71356784]),\n",
       " 0.7135678391959799)"
      ]
     },
     "execution_count": 47,
     "metadata": {},
     "output_type": "execute_result"
    }
   ],
   "source": [
    "run_result = np.zeros(5)\n",
    "counter =0\n",
    "while counter < 5:\n",
    "    new_data_clf = DecisionTreeClassifier(splitter='best', max_leaf_nodes=2)\n",
    "    new_data_clf.fit(features_train,labels_train)\n",
    "    d_predict = new_data_clf.predict(features_test)\n",
    "    run_result[counter] = accuracy_score(labels_test,d_predict)\n",
    "    counter = counter+1\n",
    "    \n",
    "run_result,np.average(run_result)"
   ]
  },
  {
   "cell_type": "markdown",
   "id": "1d79e466",
   "metadata": {},
   "source": [
    "## 8.Using Test/Traning data split 65/35 and tuning classifier\n",
    "### criterion='entropy'"
   ]
  },
  {
   "cell_type": "code",
   "execution_count": 49,
   "id": "217ae09c",
   "metadata": {},
   "outputs": [
    {
     "data": {
      "text/plain": [
       "(array([0.67839196, 0.68341709, 0.67336683, 0.68341709, 0.68844221]),\n",
       " 0.6814070351758794)"
      ]
     },
     "execution_count": 49,
     "metadata": {},
     "output_type": "execute_result"
    }
   ],
   "source": [
    "run_result = np.zeros(5)\n",
    "counter =0\n",
    "while counter < 5:\n",
    "    new_data_clf = DecisionTreeClassifier(criterion='entropy')\n",
    "    new_data_clf.fit(features_train,labels_train)\n",
    "    d_predict = new_data_clf.predict(features_test)\n",
    "    run_result[counter] = accuracy_score(labels_test,d_predict)\n",
    "    counter = counter+1\n",
    "    \n",
    "run_result,np.average(run_result)"
   ]
  },
  {
   "cell_type": "code",
   "execution_count": 6,
   "id": "ee1a294d",
   "metadata": {},
   "outputs": [],
   "source": [
    "#data.iloc[0:4,0:3]\n",
    "#data.loc[0:11,('Alive/Dead')]\n",
    "#new_data.head()\n",
    "#new_data['Alive/Dead'].value_counts()\n",
    "#new_data_clf.get_depth()\n",
    "#data.describe()"
   ]
  }
 ],
 "metadata": {
  "kernelspec": {
   "display_name": "Python 3",
   "language": "python",
   "name": "python3"
  },
  "language_info": {
   "codemirror_mode": {
    "name": "ipython",
    "version": 3
   },
   "file_extension": ".py",
   "mimetype": "text/x-python",
   "name": "python",
   "nbconvert_exporter": "python",
   "pygments_lexer": "ipython3",
   "version": "3.8.8"
  }
 },
 "nbformat": 4,
 "nbformat_minor": 5
}
