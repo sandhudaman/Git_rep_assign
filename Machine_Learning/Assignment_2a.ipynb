{
 "cells": [
  {
   "cell_type": "markdown",
   "id": "4a9625a6",
   "metadata": {},
   "source": [
    "# Assignment 2a"
   ]
  },
  {
   "cell_type": "markdown",
   "id": "e66a94dc",
   "metadata": {},
   "source": [
    "# Damanpreet Singh 000741359"
   ]
  },
  {
   "cell_type": "markdown",
   "id": "bac59182",
   "metadata": {},
   "source": [
    "The dataset contains cases from a study that was conducted between 1958 and 1970 at the University of Chicago's Billings Hospital on the survival of patients who had undergone surgery for breast cancer.\n",
    "   1. Age of patient at time of operation (numerical)\n",
    "   2. Patient's year of operation (year - 1900, numerical)\n",
    "   3. Number of positive axillary nodes detected (numerical)\n",
    "   4. Survival status (class attribute)\n",
    "         1 = the patient survived 5 years or longer\n",
    "         2 = the patient died within 5 year\n",
    "         \n",
    "    ** Row 4 will be used as Labels"
   ]
  },
  {
   "cell_type": "code",
   "execution_count": 17,
   "id": "a91d1869",
   "metadata": {},
   "outputs": [
    {
     "data": {
      "text/plain": [
       "77"
      ]
     },
     "execution_count": 17,
     "metadata": {},
     "output_type": "execute_result"
    }
   ],
   "source": [
    "from collections import Counter\n",
    "import numpy as np\n",
    "from numpy import genfromtxt\n",
    "from matplotlib import pyplot as plt\n",
    "import csv\n",
    "\n",
    "with open('haberman.data', newline='') as csvfile:\n",
    "    reader = csv.reader(csvfile)\n",
    "    data = [row for row in reader]\n",
    "    collect = np.array(data)\n",
    "    \n",
    "    \n",
    "featureCol = np.array(['Age','Positive Aux nodes','survived 5 OR more'])  # Feature for columns for columns\n",
    "collect = collect.astype('f8')\n",
    "finaldata = np.delete(collect,1,1)\n",
    "\n",
    "\n",
    "# unnormalized data\n",
    "collect = finaldata                              \n",
    "label = np.split(collect,[2],axis = 1)[1]         #label data \n",
    "len_test = int(len(collect) *0.75)                #calculating len for splitting\n",
    "len_train = len(collect) - len_test\n",
    "\n"
   ]
  },
  {
   "cell_type": "code",
   "execution_count": 28,
   "id": "325611cf",
   "metadata": {},
   "outputs": [],
   "source": [
    "# normalizing first column; the Age Max 83 ,second column: Aux node max 52 then added lable array\n",
    "normData = np.zeros((len(collect),3))\n",
    "normData[:,0] = collect[:,0]/83\n",
    "normData[:,1] = collect[:,1]/52\n",
    "normData[:,2] = label[:,0]\n"
   ]
  },
  {
   "cell_type": "code",
   "execution_count": 435,
   "id": "42d203d9",
   "metadata": {},
   "outputs": [],
   "source": [
    "# Method to apply EUCLIDEAN DISTANCE,MANHATTAN DISTANCE, k variable for knn neighbourd \n",
    "# arr will be  nparray, data can be applied in both normalized and unnormalized way\n",
    "# d variable can be used to implement Minkowski Distance changing the value of d will change distance theoram\n",
    "\n",
    "def thetask(k,d,arr,newarr):\n",
    "    distance = np.power(np.power((arr - newarr),d).sum(axis = 1),d)\n",
    "    return label[distance.argsort()][:k].astype('int')\n",
    "\n",
    "\n",
    "def majority(theDictX):\n",
    "    if theDictX[1] > theDictX[2]:                 #flattening 1 and 2's to do a Dict count for test array\n",
    "        return 1                          # if condition for who won the majority vote Alive or Dead in test data\n",
    "    else :\n",
    "        return 2   \n",
    "\n",
    "def accuracy(resultX,resultY):\n",
    "    correct = 0\n",
    "    for x in resultX:\n",
    "        if resultY[resultX.index(x)] == x:\n",
    "            correct = correct +1\n",
    "    return round((correct / len(resultX))*100,2) "
   ]
  },
  {
   "cell_type": "markdown",
   "id": "4e9861f4",
   "metadata": {},
   "source": [
    "## Permutation 1 using (k = 5,Manhattan distance,normalized-data)"
   ]
  },
  {
   "cell_type": "code",
   "execution_count": 502,
   "id": "75d053d9",
   "metadata": {},
   "outputs": [
    {
     "name": "stdout",
     "output_type": "stream",
     "text": [
      "[1, 1, 1, 1, 1, 1, 1, 2, 1, 1]\n",
      "[1, 1, 1, 1, 1, 1, 1, 1, 1, 1]\n"
     ]
    },
    {
     "data": {
      "text/plain": [
       "90.0"
      ]
     },
     "execution_count": 502,
     "metadata": {},
     "output_type": "execute_result"
    }
   ],
   "source": [
    "k = 5\n",
    "testset = np.array([0.95866629,0.62293768])       \n",
    "resultX = []\n",
    "resultY = []                                      # list to store result for test and traing array\n",
    "counter = 0\n",
    "while counter <10 :                               #loop for 5 repetetion\n",
    "    \n",
    "    normData[np.random.shuffle(normData)]         # shuffeling data\n",
    "    \n",
    "    x = thetask(k,1,normData[:len_test,:1],testset)  # initiating method thetask\n",
    "    y = thetask(k,1,normData[len_test:,:1],testset)   # data was also split into test adn training\n",
    "    theDictX = Counter(x.flatten())\n",
    "    theDictY = Counter(y.flatten())              # flattening 1 and 2's to do a Dict count for test array\n",
    "                                                \n",
    "    resultX.append(majority(theDictX))\n",
    "    resultY.append(majority(theDictY))\n",
    "    counter = counter+1                           #appending majority Vote of Eeach test run to result     \n",
    "        \n",
    "\n",
    "print(resultX)\n",
    "print(resultY)\n",
    "accuracy(resultX,resultY)\n"
   ]
  },
  {
   "cell_type": "markdown",
   "id": "9d275858",
   "metadata": {},
   "source": [
    "## Permutation 2 using (k = 5,EUCLIDEAN DISTANCE,normalized-data)"
   ]
  },
  {
   "cell_type": "code",
   "execution_count": 503,
   "id": "b72cc2cb",
   "metadata": {},
   "outputs": [
    {
     "name": "stdout",
     "output_type": "stream",
     "text": [
      "[2, 1, 1, 1, 1, 1, 1, 1, 1, 1]\n",
      "[1, 1, 1, 1, 1, 1, 1, 1, 1, 1]\n"
     ]
    },
    {
     "data": {
      "text/plain": [
       "90.0"
      ]
     },
     "execution_count": 503,
     "metadata": {},
     "output_type": "execute_result"
    }
   ],
   "source": [
    "k = 5\n",
    "testset = np.array([0.95866629,0.62293768])      \n",
    "resultX = []\n",
    "resultY = []                                      # list to store result for test and traing array\n",
    "counter = 0\n",
    "while counter <10:                               #loop for 5 repetetion\n",
    "    \n",
    "    normData[np.random.shuffle(normData)]         # shuffeling data\n",
    "    x = thetask(k,2,normData[:len_test,:1],testset)  # initiating method thetask\n",
    "    y = thetask(k,2,normData[len_test:,:1],testset)   # data was also split into test adn training\n",
    "    theDictX = Counter(x.flatten())\n",
    "    theDictY = Counter(y.flatten())              # flattening 1 and 2's to do a Dict count for test array\n",
    "                                                \n",
    "    resultX.append(majority(theDictX))\n",
    "    resultY.append(majority(theDictY))\n",
    "    counter = counter+1                           #appending majority Vote of Eeach test run to result     \n",
    "        \n",
    "\n",
    "print(resultX)\n",
    "print(resultY)\n",
    "accuracy(resultX,resultY)"
   ]
  },
  {
   "cell_type": "markdown",
   "id": "8fcdbe9f",
   "metadata": {},
   "source": [
    "## Permutation 3 using (k = 5,Minkowski Distance: m = 5 ,normalized-data)"
   ]
  },
  {
   "cell_type": "code",
   "execution_count": 518,
   "id": "29700c9b",
   "metadata": {},
   "outputs": [
    {
     "name": "stdout",
     "output_type": "stream",
     "text": [
      "[1, 2, 1, 1, 1, 1, 1, 2, 1, 1]\n",
      "[1, 1, 1, 1, 1, 1, 1, 1, 1, 1]\n"
     ]
    },
    {
     "data": {
      "text/plain": [
       "80.0"
      ]
     },
     "execution_count": 518,
     "metadata": {},
     "output_type": "execute_result"
    }
   ],
   "source": [
    "k = 5\n",
    "testset = np.array([0.95866629,0.62293768])       \n",
    "resultX = []\n",
    "resultY = []                                      # list to store result for test and traing array\n",
    "counter = 0\n",
    "while counter <10 :                               #loop for 5 repetetion\n",
    "    \n",
    "    normData[np.random.shuffle(normData)]         # shuffeling data\n",
    "    \n",
    "    x = thetask(k,5,normData[:len_test,:1],testset)  # initiating method thetask\n",
    "    y = thetask(k,5,normData[len_test:,:1],testset)   # data was also split into test adn training\n",
    "    theDictX = Counter(x.flatten())\n",
    "    theDictY = Counter(y.flatten())              # flattening 1 and 2's to do a Dict count for test array\n",
    "                                                \n",
    "    resultX.append(majority(theDictX))\n",
    "    resultY.append(majority(theDictY))\n",
    "    counter = counter+1                           #appending majority Vote of Eeach test run to result     \n",
    "        \n",
    "\n",
    "print(resultX)\n",
    "print(resultY)\n",
    "accuracy(resultX,resultY)"
   ]
  },
  {
   "cell_type": "markdown",
   "id": "1c2f66d9",
   "metadata": {},
   "source": [
    "## Permutation 4 using (k = 10,EUCLIDEAN DISTANCE,normalized-data)\n"
   ]
  },
  {
   "cell_type": "code",
   "execution_count": 533,
   "id": "0944f6c8",
   "metadata": {},
   "outputs": [
    {
     "name": "stdout",
     "output_type": "stream",
     "text": [
      "[1, 1, 1, 1, 1, 1, 1, 1, 1, 2]\n",
      "[1, 1, 1, 1, 1, 1, 1, 1, 1, 1]\n"
     ]
    },
    {
     "data": {
      "text/plain": [
       "90.0"
      ]
     },
     "execution_count": 533,
     "metadata": {},
     "output_type": "execute_result"
    }
   ],
   "source": [
    "k = 10\n",
    "testset = np.array([0.95866629,0.62293768])       \n",
    "resultX = []\n",
    "resultY = []                                      # list to store result for test and traing array\n",
    "counter = 0\n",
    "while counter <10 :                               #loop for 5 repetetion\n",
    "    \n",
    "    normData[np.random.shuffle(normData)]         # shuffeling data\n",
    "    \n",
    "    x = thetask(k,2,normData[:len_test,:1],testset)  # initiating method thetask\n",
    "    y = thetask(k,2,normData[len_test:,:1],testset)   # data was also split into test adn training\n",
    "    theDictX = Counter(x.flatten())\n",
    "    theDictY = Counter(y.flatten())              # flattening 1 and 2's to do a Dict count for test array\n",
    "                                                \n",
    "    resultX.append(majority(theDictX))\n",
    "    resultY.append(majority(theDictY))\n",
    "    counter = counter+1                           #appending majority Vote of Eeach test run to result     \n",
    "        \n",
    "\n",
    "print(resultX)\n",
    "print(resultY)\n",
    "accuracy(resultX,resultY)"
   ]
  },
  {
   "cell_type": "markdown",
   "id": "f2162bd6",
   "metadata": {},
   "source": [
    "## Permutation 5 using (k = 20, Manhatten Distance,normalized-data)"
   ]
  },
  {
   "cell_type": "code",
   "execution_count": 613,
   "id": "079191ac",
   "metadata": {},
   "outputs": [
    {
     "name": "stdout",
     "output_type": "stream",
     "text": [
      "[1, 1, 1, 1, 1, 1, 1, 1, 1, 1]\n",
      "[1, 1, 1, 1, 1, 1, 1, 1, 1, 1]\n"
     ]
    },
    {
     "data": {
      "text/plain": [
       "100.0"
      ]
     },
     "execution_count": 613,
     "metadata": {},
     "output_type": "execute_result"
    }
   ],
   "source": [
    "k = 20\n",
    "testset = np.array([0.6866629,0.62293768])       \n",
    "resultX = []\n",
    "resultY = []                                      # list to store result for test and traing array\n",
    "counter = 0\n",
    "while counter <10 :                               #loop for 5 repetetion\n",
    "\n",
    "    normData[np.random.shuffle(normData)]         # shuffeling data\n",
    "    \n",
    "    x = thetask(k,1,normData[:len_test,:1],testset)  # initiating method thetask\n",
    "    y = thetask(k,1,normData[len_test:,:1],testset)   # data was also split into test adn training\n",
    "    theDictX = Counter(x.flatten())\n",
    "    theDictY = Counter(y.flatten())              # flattening 1 and 2's to do a Dict count for test array\n",
    "                                                \n",
    "    resultX.append(majority(theDictX))\n",
    "    resultY.append(majority(theDictY))\n",
    "    counter = counter+1                           #appending majority Vote of Eeach test run to result     \n",
    "        \n",
    "\n",
    "print(resultX)\n",
    "print(resultY)\n",
    "\n",
    "accuracy(resultX,resultY)"
   ]
  },
  {
   "cell_type": "markdown",
   "id": "71bd4ac4",
   "metadata": {},
   "source": [
    "## Permutation 6 using (k = 10,Eucledian Distance ,UN -normalized-data,test-data)"
   ]
  },
  {
   "cell_type": "code",
   "execution_count": 595,
   "id": "64c65978",
   "metadata": {},
   "outputs": [
    {
     "name": "stdout",
     "output_type": "stream",
     "text": [
      "[1, 1, 1, 1, 1, 1, 1, 1, 1, 1]\n",
      "[1, 1, 1, 1, 1, 1, 1, 1, 1, 1]\n"
     ]
    },
    {
     "data": {
      "text/plain": [
       "100.0"
      ]
     },
     "execution_count": 595,
     "metadata": {},
     "output_type": "execute_result"
    }
   ],
   "source": [
    "k = 10\n",
    "testset = np.array([38,21])                     # new testset\n",
    "resultX = []\n",
    "resultY = []                                      # list to store result for test and traing array\n",
    "counter = 0\n",
    "while counter <10 :                               #loop for 5 repetetion\n",
    "\n",
    "    normData[np.random.shuffle(normData)]         # shuffeling data\n",
    "    \n",
    "    x = thetask(k,2,collect[:len_test,:1],testset)  # initiating method thetask\n",
    "    y = thetask(k,2,collect[len_test:,:1],testset)  # data was also split into test adn training\n",
    "    theDictX = Counter(x.flatten())\n",
    "    theDictY = Counter(y.flatten())              # flattening 1 and 2's to do a Dict count for test array\n",
    "                                                \n",
    "    resultX.append(majority(theDictX))\n",
    "    resultY.append(majority(theDictY))\n",
    "    counter = counter+1                           #appending majority Vote of Eeach test run to result     \n",
    "        \n",
    "\n",
    "print(resultX)\n",
    "print(resultY)\n",
    "accuracy(resultX,resultY)\n",
    "\n"
   ]
  },
  {
   "cell_type": "markdown",
   "id": "882540d9",
   "metadata": {},
   "source": [
    "## Permutation 7 using (k = 5,Minkowski Distance of 4,UN-normalized-data)"
   ]
  },
  {
   "cell_type": "code",
   "execution_count": 509,
   "id": "9cc6b0db",
   "metadata": {},
   "outputs": [
    {
     "name": "stdout",
     "output_type": "stream",
     "text": [
      "[1, 1, 1, 1, 1, 1, 1, 1, 1, 1]\n",
      "[1, 1, 1, 1, 1, 1, 1, 1, 1, 1]\n"
     ]
    },
    {
     "data": {
      "text/plain": [
       "100.0"
      ]
     },
     "execution_count": 509,
     "metadata": {},
     "output_type": "execute_result"
    }
   ],
   "source": [
    "k = 5\n",
    "testset = np.array([60,20])       \n",
    "resultX = []\n",
    "resultY = []                                      # list to store result for test and traing array\n",
    "counter = 0\n",
    "while counter <10 :                               #loop for 5 repetetion\n",
    "\n",
    "    normData[np.random.shuffle(normData)]         # shuffeling data\n",
    "    \n",
    "    x = thetask(k,4,collect[:len_test,:1],testset)  # initiating method thetask\n",
    "    y = thetask(k,4,collect[len_test:,:1],testset)  # data was also split into test adn training\n",
    "    theDictX = Counter(x.flatten())\n",
    "    theDictY = Counter(y.flatten())              # flattening 1 and 2's to do a Dict count for test array\n",
    "                                                \n",
    "    resultX.append(majority(theDictX))\n",
    "    resultY.append(majority(theDictY))\n",
    "    counter = counter+1                           #appending majority Vote of Eeach test run to result     \n",
    "        \n",
    "\n",
    "print(resultX)\n",
    "print(resultY)\n",
    "accuracy(resultX,resultY)"
   ]
  },
  {
   "cell_type": "markdown",
   "id": "9e9d466d",
   "metadata": {},
   "source": [
    "## Permutation 8 using (k = 19,EUCLIDEAN DISTANCE,un-normalized-data,test-data)"
   ]
  },
  {
   "cell_type": "code",
   "execution_count": 602,
   "id": "f7aa6378",
   "metadata": {},
   "outputs": [
    {
     "name": "stdout",
     "output_type": "stream",
     "text": [
      "[1, 1, 1, 1, 1, 1, 1, 1, 1, 1]\n",
      "[1, 1, 1, 1, 1, 1, 1, 1, 1, 1]\n"
     ]
    },
    {
     "data": {
      "text/plain": [
       "100.0"
      ]
     },
     "execution_count": 602,
     "metadata": {},
     "output_type": "execute_result"
    }
   ],
   "source": [
    "k = 19\n",
    "testset = np.array([1,1])       \n",
    "resultX = []\n",
    "resultY = []                                      # list to store result for test and traing array\n",
    "counter = 0\n",
    "while counter <10 :                               #loop for 5 repetetion\n",
    "\n",
    "    normData[np.random.shuffle(normData)]         # shuffeling data\n",
    "    \n",
    "    x = thetask(k,2,collect[:len_test,:1],testset)  # initiating method thetask\n",
    "    y = thetask(k,2,collect[len_test:,:1],testset)  # data was also split into test adn training\n",
    "    theDictX = Counter(x.flatten())\n",
    "    theDictY = Counter(y.flatten())              # flattening 1 and 2's to do a Dict count for test array\n",
    "                                                \n",
    "    resultX.append(majority(theDictX))\n",
    "    resultY.append(majority(theDictY))\n",
    "    counter = counter+1                           #appending majority Vote of Eeach test run to result     \n",
    "        \n",
    "\n",
    "print(resultX)\n",
    "print(resultY)\n",
    "accuracy(resultX,resultY)"
   ]
  },
  {
   "cell_type": "markdown",
   "id": "ce7c2332",
   "metadata": {},
   "source": [
    "\n",
    "# ignore the bottom part"
   ]
  },
  {
   "cell_type": "markdown",
   "id": "3f4b89c4",
   "metadata": {},
   "source": [
    "#used this for visualization of normalized data to verify correct answer\n",
    "def visualizer(testset):\n",
    "    counter = 0\n",
    "    alive = []\n",
    "    dead = []\n",
    "    for x in label.astype('int'):\n",
    "        if x == 1:\n",
    "            alive.append(normData[counter])\n",
    "        else:\n",
    "            dead.append(normData[counter])\n",
    "        counter = counter+1\n",
    "    \n",
    "    alive = np.array(alive)\n",
    "    dead = np.array(dead)\n",
    "\n",
    "    plt.figure(figsize=(15,9))\n",
    "    plt.scatter(dead[:,0],dead[:,1], color = 'r',label = 'Dead before 5 years')\n",
    "    plt.scatter(alive[:,0],alive[:,1], color = 'g',label = 'Alive after 5 years')\n",
    "    plt.scatter(testset[0],testset[1],color = \"b\" ,marker = '*' ,s = 100)\n",
    "    plt.xlabel('Age of patient at time of operation')\n",
    "    plt.ylabel('Number of positive axillary nodes')\n",
    "    plt.legend()\n",
    "    plt.show();"
   ]
  },
  {
   "cell_type": "markdown",
   "id": "ea3de496",
   "metadata": {},
   "source": [
    "#used this for visualization  un-normalized data to verify correct answer\n",
    "def unnormvisualizer(testset):\n",
    "    counter = 0\n",
    "    alive = []\n",
    "    dead = []\n",
    "    for x in label.astype('int'):\n",
    "        if x == 1:\n",
    "            alive.append(collect[counter])\n",
    "        else:\n",
    "            dead.append(collect[counter])\n",
    "        counter = counter+1\n",
    "    \n",
    "    alive = np.array(alive)\n",
    "    dead = np.array(dead)\n",
    "\n",
    "    plt.figure(figsize=(15,9))\n",
    "    plt.scatter(dead[:,0],dead[:,1], color = 'r',label = 'Dead before 5 years')\n",
    "    plt.scatter(alive[:,0],alive[:,1], color = 'g',label = 'Alive after 5 years')\n",
    "    plt.scatter(testset[0],testset[1],color = \"b\" ,marker = '*' ,s = 100)\n",
    "    plt.xlabel('Age of patient at time of operation')\n",
    "    plt.ylabel('Number of positive axillary nodes')\n",
    "    plt.legend()\n",
    "    plt.show();"
   ]
  }
 ],
 "metadata": {
  "kernelspec": {
   "display_name": "Python 3",
   "language": "python",
   "name": "python3"
  },
  "language_info": {
   "codemirror_mode": {
    "name": "ipython",
    "version": 3
   },
   "file_extension": ".py",
   "mimetype": "text/x-python",
   "name": "python",
   "nbconvert_exporter": "python",
   "pygments_lexer": "ipython3",
   "version": "3.8.8"
  }
 },
 "nbformat": 4,
 "nbformat_minor": 5
}
